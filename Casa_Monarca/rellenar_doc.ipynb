{
 "cells": [
  {
   "cell_type": "code",
   "execution_count": 16,
   "id": "16d2cff0",
   "metadata": {},
   "outputs": [],
   "source": [
    "import os\n",
    "from docx import Document\n",
    "from docx.shared import Inches\n",
    "from datetime import datetime\n"
   ]
  },
  {
   "cell_type": "markdown",
   "id": "b1065f66",
   "metadata": {},
   "source": [
    "# Bases de datos"
   ]
  },
  {
   "cell_type": "code",
   "execution_count": 17,
   "id": "936ed19e",
   "metadata": {},
   "outputs": [],
   "source": [
    "DOCUMENTOS_PATH = \"documentos/\"\n",
    "FIRMAS_PATH = \"firmas/\"\n",
    "MACHOTES_PATH = \"machotes/\""
   ]
  },
  {
   "cell_type": "code",
   "execution_count": 18,
   "id": "d401abe9",
   "metadata": {},
   "outputs": [],
   "source": [
    "base_usuarios = {\n",
    "    \"ana.lopez@casamonarca.org\": \"Ana López\",\n",
    "    \"carlos.ramirez@casamonarca.org\": \"Carlos Ramírez\",\n",
    "    \"maria.gonzalez@casamonarca.org\": \"María González\"\n",
    "}\n",
    "# Formato de firmas firmas/maria_dot_gonzalez_at_casamonarca_dot_org.png\n"
   ]
  },
  {
   "cell_type": "markdown",
   "id": "cbe8348b",
   "metadata": {},
   "source": [
    "# Codigo"
   ]
  },
  {
   "cell_type": "code",
   "execution_count": 19,
   "id": "175413de",
   "metadata": {},
   "outputs": [],
   "source": [
    "def normalizar_correo(correo):\n",
    "    return correo.strip().lower().replace(\"@\", \"_at_\").replace(\".\", \"_dot_\")"
   ]
  },
  {
   "cell_type": "code",
   "execution_count": 20,
   "id": "b078cdfa",
   "metadata": {},
   "outputs": [],
   "source": [
    "# En local\n",
    "def buscar_firma_por_correo(correo):\n",
    "    archivo = normalizar_correo(correo) + \".png\"\n",
    "    path = os.path.join(FIRMAS_PATH, archivo)\n",
    "    if not os.path.exists(path):\n",
    "        raise FileNotFoundError(f\"Firma no encontrada para {correo}\")\n",
    "    return path\n",
    "# En produccion base online\n",
    "\n",
    "# En local\n",
    "def buscar_nombre_por_correo(correo, base_usuarios):\n",
    "    return base_usuarios.get(correo, None)\n",
    "\n",
    "# En produccion pasarlo como parametro o buscarlo en azure\n",
    "\n",
    "# En local\n",
    "def obtener_documento_por_id(doc_id):\n",
    "    path = os.path.join(DOCUMENTOS_PATH, f\"doc_{doc_id}.docx\")\n",
    "    if not os.path.exists(path):\n",
    "        raise FileNotFoundError(f\"Documento con ID {doc_id} no encontrado\")\n",
    "    return path\n",
    "\n",
    "# En produccion pasarlo como parametro o buscarlo en azure\n",
    "\n",
    "\n"
   ]
  },
  {
   "cell_type": "code",
   "execution_count": 21,
   "id": "29627d50",
   "metadata": {},
   "outputs": [],
   "source": [
    "def rellenar_campos_docx(path_machote, datos, id_documento):\n",
    "    \"\"\"\n",
    "    Rellena los campos {campo} en un documento .docx y guarda usando un ID único.\n",
    "\n",
    "    Args:\n",
    "        path_machote (str): Ruta del documento machote (.docx) a usar.\n",
    "        datos (dict): Diccionario con claves {campo} y sus valores correspondientes.\n",
    "        id_documento (str or int): ID único del documento (ejemplo: 123456)\n",
    "    \"\"\"\n",
    "    # Cargar el documento\n",
    "    doc = Document(path_machote)\n",
    "\n",
    "    # Reemplazar en cada párrafo\n",
    "    for p in doc.paragraphs:\n",
    "        for key, value in datos.items():\n",
    "            if key in p.text:\n",
    "                p.text = p.text.replace(key, str(value))\n",
    "\n",
    "    # Reemplazar dentro de tablas también\n",
    "    for table in doc.tables:\n",
    "        for row in table.rows:\n",
    "            for cell in row.cells:\n",
    "                for key, value in datos.items():\n",
    "                    if key in cell.text:\n",
    "                        cell.text = cell.text.replace(key, str(value))\n",
    "\n",
    "    # Definir ruta de salida basada en el ID\n",
    "    path_salida = os.path.join(DOCUMENTOS_PATH, f\"doc_{id_documento}.docx\")\n",
    "\n",
    "    # Guardar el documento rellenado en su nueva ruta\n",
    "    doc.save(path_salida)\n",
    "    return path_salida"
   ]
  },
  {
   "cell_type": "code",
   "execution_count": 22,
   "id": "6a007fb3",
   "metadata": {},
   "outputs": [],
   "source": [
    "def insertar_firma_y_nombre_por_id(doc_id, correo, base_usuarios, placeholder_nombre, rol):\n",
    "    \"\"\"\n",
    "    Inserta la firma y nombre en un documento buscando por ID, y guarda sobre el mismo archivo.\n",
    "    \"\"\"\n",
    "    doc_path = obtener_documento_por_id(doc_id)\n",
    "    doc = Document(doc_path)\n",
    "\n",
    "    nombre = base_usuarios.get(correo)\n",
    "    if not nombre:\n",
    "        raise ValueError(f\"Nombre no encontrado para {correo}\")\n",
    "\n",
    "    firma_path = buscar_firma_por_correo(correo)\n",
    "\n",
    "    for table in doc.tables:\n",
    "        for row in table.rows:\n",
    "            for cell in row.cells:\n",
    "                for i, paragraph in enumerate(cell.paragraphs):\n",
    "                    if placeholder_nombre in paragraph.text:\n",
    "                        # Insertar firma\n",
    "                        parrafo_firma = cell.paragraphs[i].insert_paragraph_before()\n",
    "                        run = parrafo_firma.add_run()\n",
    "                        run.add_picture(firma_path, width=Inches(2))\n",
    "                        \n",
    "                        # Insertar una línea de firma si quieres que siempre esté\n",
    "                        parrafo_linea = paragraph.insert_paragraph_before()\n",
    "                        parrafo_linea.add_run(\"____________________\")\n",
    "\n",
    "                        # Reemplazar marcador por nombre + rol\n",
    "                        paragraph.text = f\"{rol}: {nombre}\\n(Personal autorizado)\"\n",
    "\n",
    "\n",
    "    # Guardar editando sobre el mismo documento\n",
    "    doc.save(doc_path)"
   ]
  },
  {
   "cell_type": "code",
   "execution_count": 23,
   "id": "f5394c0e",
   "metadata": {},
   "outputs": [],
   "source": [
    "def crear_documento_donacion(datos):\n",
    "    \"\"\"\n",
    "    Crea todo el flujo de generación del documento de donación.\n",
    "\n",
    "    Args:\n",
    "        path_machote (str): Ruta al machote de especie o dinero.\n",
    "        datos (dict): Diccionario de datos a rellenar.\n",
    "\n",
    "    Returns:\n",
    "        dict: Contiene el ID del documento, tipo de donación y fecha de donación.\n",
    "    \"\"\"\n",
    "    # 1. Generar ID\n",
    "    id_documento = uuid.uuid4()\n",
    "    \n",
    "     # 2. Determinar tipo de donación\n",
    "    if \"{monto_donado}\" in datos or \"monto_donado\" in datos:\n",
    "        tipo_donacion = \"dinero\"\n",
    "        path_machote = os.path.join(MACHOTES_PATH, \"Donacion_Dinero.docx\")\n",
    "    elif \"{lista_articulos}\" in datos or \"lista_articulos\" in datos:\n",
    "        tipo_donacion = \"especie\"\n",
    "        path_machote = os.path.join(MACHOTES_PATH, \"Donacion_Especie.docx\")\n",
    "    else:\n",
    "        tipo_donacion = \"desconocido\"  # En caso de error\n",
    "        \n",
    "    \n",
    "\n",
    "\n",
    "    # 3. Determinar la ruta del machote\n",
    "    path_final = rellenar_campos_docx(path_machote, datos, id_documento)\n",
    "\n",
    "   \n",
    "\n",
    "    # 4. Obtener fecha\n",
    "    fecha_donacion = datos.get(\"{fecha_donacion}\", datos.get(\"fecha_donacion\", \"fecha_desconocida\"))\n",
    "\n",
    "    return {\n",
    "        \"id_documento\": id_documento,\n",
    "        \"tipo_donacion\": tipo_donacion,\n",
    "        \"fecha_donacion\": fecha_donacion,\n",
    "        \"path_documento\": path_final\n",
    "    }"
   ]
  },
  {
   "cell_type": "code",
   "execution_count": 24,
   "id": "668a760b",
   "metadata": {},
   "outputs": [
    {
     "name": "stdout",
     "output_type": "stream",
     "text": [
      "{'id_documento': UUID('8aa79420-7384-4562-b1e1-eaa429a4961c'), 'tipo_donacion': 'especie', 'fecha_donacion': '28 de April de 2025', 'path_documento': 'documentos/doc_8aa79420-7384-4562-b1e1-eaa429a4961c.docx'}\n"
     ]
    }
   ],
   "source": [
    "today = datetime.now()\n",
    "fecha_hoy = today.strftime(\"%d de %B de %Y\")\n",
    "datos_donacion = {\n",
    "    \"{fecha_donacion}\": fecha_hoy,\n",
    "    \"{nombre_donante}\": \"Juan Pérez\",\n",
    "    \"{lista_articulos}\": \"- 10 paquetes de arroz\\n- 5 cobijas\\n- 3 cajas de medicamento\"\n",
    "}\n",
    "\n",
    "resultado = crear_documento_donacion(\n",
    "    datos=datos_donacion\n",
    ")\n",
    "\n",
    "print(resultado)\n"
   ]
  },
  {
   "cell_type": "code",
   "execution_count": null,
   "id": "852153c5",
   "metadata": {},
   "outputs": [],
   "source": [
    "insertar_firma_y_nombre_por_id(\n",
    "    doc_id=resultado[\"id_documento\"],\n",
    "    correo=\"carlos.ramirez@casamonarca.org\",\n",
    "    base_usuarios=base_usuarios,\n",
    "    placeholder_nombre=\"{nombre_inventario}\",\n",
    "    rol=\"Aprobado por\")"
   ]
  }
 ],
 "metadata": {
  "kernelspec": {
   "display_name": "CasaMonarca",
   "language": "python",
   "name": "python3"
  },
  "language_info": {
   "codemirror_mode": {
    "name": "ipython",
    "version": 3
   },
   "file_extension": ".py",
   "mimetype": "text/x-python",
   "name": "python",
   "nbconvert_exporter": "python",
   "pygments_lexer": "ipython3",
   "version": "3.13.2"
  }
 },
 "nbformat": 4,
 "nbformat_minor": 5
}
